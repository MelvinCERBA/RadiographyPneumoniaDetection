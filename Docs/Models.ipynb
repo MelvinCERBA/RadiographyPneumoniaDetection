{
 "cells": [
  {
   "cell_type": "markdown",
   "id": "0ae08677-69ee-4109-8df3-57e62bcc4220",
   "metadata": {},
   "source": [
    "# Models\n",
    "\n",
    "## Neural networks\n",
    "NN are based on the perceptron, which takes an input vector, multiplies it by weights, adds biases then passes the result through an activation function.\n",
    "A neural network puts perceptrons in layers, and those layers, once connected, form the network.  \n",
    "\n",
    "### CNN (Convoluted Neural Network)\n",
    "\n",
    "### DNN (Dense Neural Network)"
   ]
  },
  {
   "cell_type": "code",
   "execution_count": null,
   "id": "f3a268d1-70be-494c-ac05-9756d004a843",
   "metadata": {},
   "outputs": [],
   "source": []
  }
 ],
 "metadata": {
  "kernelspec": {
   "display_name": "Python 3 (ipykernel)",
   "language": "python",
   "name": "python3"
  },
  "language_info": {
   "codemirror_mode": {
    "name": "ipython",
    "version": 3
   },
   "file_extension": ".py",
   "mimetype": "text/x-python",
   "name": "python",
   "nbconvert_exporter": "python",
   "pygments_lexer": "ipython3",
   "version": "3.10.10"
  }
 },
 "nbformat": 4,
 "nbformat_minor": 5
}
