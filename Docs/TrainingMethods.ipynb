{
 "cells": [
  {
   "cell_type": "markdown",
   "id": "3236e654-0d89-4568-8bfe-ab435cdec151",
   "metadata": {},
   "source": [
    "# Training methods\n",
    "\n",
    "## Gradient descent\n",
    "\n",
    "### Stochastic gradient descent \n",
    "Can be unstable, error can become \"noisy\", but this method can also be more acurate than others. \n",
    "### Batch gradient descent \n",
    "Stable, computationnally lighter but can be memory intensive as every sample of the dataset and their error have to be stored in RAM until backpropagation a the end of the dataset sized batch.\n",
    "### Mini-batch gradient descent \n",
    "Combine the advangtages of btoh other methods."
   ]
  }
 ],
 "metadata": {
  "kernelspec": {
   "display_name": "Python 3 (ipykernel)",
   "language": "python",
   "name": "python3"
  },
  "language_info": {
   "codemirror_mode": {
    "name": "ipython",
    "version": 3
   },
   "file_extension": ".py",
   "mimetype": "text/x-python",
   "name": "python",
   "nbconvert_exporter": "python",
   "pygments_lexer": "ipython3",
   "version": "3.10.10"
  }
 },
 "nbformat": 4,
 "nbformat_minor": 5
}
