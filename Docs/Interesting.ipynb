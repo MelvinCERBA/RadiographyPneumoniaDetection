{
 "cells": [
  {
   "cell_type": "markdown",
   "id": "80e6baa2-aad0-4af5-bdc0-1a3cd1da0dc6",
   "metadata": {},
   "source": [
    "__[Introduction to Keras](https://machinelearningmastery.com/tutorial-first-neural-network-python-keras/)__\n",
    "\n",
    "__[Hyperparameters optimization with Scikit](https://machinelearningmastery.com/grid-search-hyperparameters-deep-learning-models-python-keras)__\n",
    "\n",
    "__[Hyperparameters optimization with Keras](https://github.com/keras-team/keras-tuner)__\n",
    "\n",
    "__[How to choose a model's hyperparameters](https://machinelearningmastery.com/how-to-configure-the-number-of-layers-and-nodes-in-a-neural-network/)__\n",
    "\n",
    "__[Save models](https://machinelearningmastery.com/save-load-keras-deep-learning-models/)__\n",
    "\n",
    "__[Cross validation (verify the performance of the model)](https://neptune.ai/blog/cross-validation-in-machine-learning-how-to-do-it-right)__"
   ]
  }
 ],
 "metadata": {
  "kernelspec": {
   "display_name": "Python 3 (ipykernel)",
   "language": "python",
   "name": "python3"
  },
  "language_info": {
   "codemirror_mode": {
    "name": "ipython",
    "version": 3
   },
   "file_extension": ".py",
   "mimetype": "text/x-python",
   "name": "python",
   "nbconvert_exporter": "python",
   "pygments_lexer": "ipython3",
   "version": "3.10.10"
  }
 },
 "nbformat": 4,
 "nbformat_minor": 5
}
