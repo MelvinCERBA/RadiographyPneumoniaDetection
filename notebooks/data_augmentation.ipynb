{
 "cells": [
  {
   "attachments": {},
   "cell_type": "markdown",
   "metadata": {},
   "source": [
    "# DATA AUGMENTATION\n",
    "\n",
    "Due to the poor size of validation dataset (~10), we moved validation dataset to the training dataset and we will pick ~10-20% of the training dataset as validation data\n",
    "\n",
    "We don't have much data to create a better model. With the utility of data augmentation, we generate more images. (Only for Training and validation  data)\n",
    "\n",
    "data size:\n",
    "- NORMAL: 1341 * 2 = 2682\n",
    "- PNEUMONIA: 3875 *2 = 7750\n",
    "total = 10468"
   ]
  },
  {
   "cell_type": "code",
   "execution_count": 1,
   "metadata": {},
   "outputs": [
    {
     "name": "stdout",
     "output_type": "stream",
     "text": [
      "Found 5216 images belonging to 2 classes.\n"
     ]
    }
   ],
   "source": [
    "import os\n",
    "import cv2\n",
    "import numpy as np\n",
    "import scipy\n",
    "from keras.preprocessing.image import ImageDataGenerator\n",
    "import chardet\n",
    "\n",
    "\n",
    "# Specify the path to the folder containing the images\n",
    "train_dir = '../data/chest_Xray/train'\n",
    "\n",
    "# Define the number of augmented images to generate for each class\n",
    "num_aug_normal = 1341\n",
    "num_aug_pneumonia = 3875\n",
    "\n",
    "# Create separate subfolders for each class of augmented images\n",
    "aug_dir_normal = '../data/chest_Xray/train_augmented/NORMAL'\n",
    "aug_dir_pneumonia = '../data/chest_Xray/train_augmented/PNEUMONIA'\n",
    "if not os.path.exists(aug_dir_normal):\n",
    "    os.makedirs(aug_dir_normal)\n",
    "\n",
    "if not os.path.exists(aug_dir_pneumonia):\n",
    "    os.makedirs(aug_dir_pneumonia)\n",
    "\n",
    "# Create an instance of ImageDataGenerator\n",
    "datagen = ImageDataGenerator(\n",
    "    rotation_range=20,      # Rotate images by 20 degrees\n",
    "    zoom_range=0.2,         # Zoom in/out images by 20%\n",
    "    width_shift_range=0.1,  # Shift the width of the image by 10%\n",
    "    height_shift_range=0.1, # Shift the height of the image by 10%\n",
    "    horizontal_flip=True,   # Flip images horizontally\n",
    "    vertical_flip=True      # Flip images vertically\n",
    ")\n",
    "\n",
    "aug_iter = datagen.flow_from_directory(\n",
    "    train_dir,\n",
    "    classes=['NORMAL', 'PNEUMONIA'],\n",
    "    target_size=(224, 224),  # Resize images to 224x224 pixels\n",
    "    batch_size=32,           # Generate images in batches of 32\n",
    "    # save_to_dir='augmented_images/', # Save the augmented images to this directory\n",
    "    save_prefix='aug_',      # Add a prefix to the filenames of the augmented images\n",
    "    class_mode='categorical',\n",
    "    save_format='jpg'        # Save the augmented images in JPEG format\n",
    ")\n",
    "\n",
    "num_aug_normal_generated = 0\n",
    "num_aug_pneumonia_generated = 0\n",
    "\n",
    "# Loop through each batch of augmented images and save them to the appropriate subfolder\n",
    "for i, (images, labels) in enumerate(aug_iter):\n",
    "    for j, label in enumerate(labels):\n",
    "        if np.argmax(label) == 0: # If the label corresponds to the 'normal' class\n",
    "            if num_aug_normal_generated < num_aug_normal:\n",
    "                filename = os.path.join(aug_dir_normal, f\"aug_{num_aug_normal_generated}.jpg\")\n",
    "                cv2.imwrite(filename, images[j])\n",
    "                num_aug_normal_generated += 1\n",
    "        else: # If the label corresponds to the 'pneumonia' class\n",
    "            if num_aug_pneumonia_generated < num_aug_pneumonia:\n",
    "                filename = os.path.join(aug_dir_pneumonia, f\"aug_{num_aug_pneumonia_generated}.jpg\")\n",
    "                cv2.imwrite(filename, images[j])\n",
    "                num_aug_pneumonia_generated += 1\n",
    "        \n",
    "        if num_aug_normal_generated == num_aug_normal and num_aug_pneumonia_generated == num_aug_pneumonia:\n",
    "            break\n",
    "        \n",
    "    if num_aug_normal_generated == num_aug_normal and num_aug_pneumonia_generated == num_aug_pneumonia:\n",
    "        break\n"
   ]
  }
 ],
 "metadata": {
  "kernelspec": {
   "display_name": "base",
   "language": "python",
   "name": "python3"
  },
  "language_info": {
   "codemirror_mode": {
    "name": "ipython",
    "version": 3
   },
   "file_extension": ".py",
   "mimetype": "text/x-python",
   "name": "python",
   "nbconvert_exporter": "python",
   "pygments_lexer": "ipython3",
   "version": "3.10.10"
  },
  "orig_nbformat": 4
 },
 "nbformat": 4,
 "nbformat_minor": 2
}
